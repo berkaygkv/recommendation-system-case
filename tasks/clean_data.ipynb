{
 "cells": [
  {
   "cell_type": "code",
   "execution_count": 1,
   "metadata": {
    "execution": {
     "iopub.execute_input": "2022-04-11T00:37:05.184168Z",
     "iopub.status.busy": "2022-04-11T00:37:05.184168Z",
     "iopub.status.idle": "2022-04-11T00:37:05.236890Z",
     "shell.execute_reply": "2022-04-11T00:37:05.236023Z"
    },
    "lines_to_next_cell": 2,
    "papermill": {
     "duration": 0.059746,
     "end_time": "2022-04-11T00:37:05.239890",
     "exception": false,
     "start_time": "2022-04-11T00:37:05.180144",
     "status": "completed"
    },
    "tags": [
     "parameters"
    ]
   },
   "outputs": [],
   "source": [
    "## SKIP THIS PART\n",
    "# Ploomber related variables\n",
    "upstream = None\n",
    "product = None"
   ]
  },
  {
   "cell_type": "code",
   "execution_count": null,
   "metadata": {
    "tags": [
     "injected-parameters"
    ]
   },
   "outputs": [],
   "source": [
    "# Parameters\n",
    "product = {\"nb\": \"C:\\\\Users\\\\berkayg\\\\Desktop\\\\Coding env\\\\ test-case\\\\products\\\\clean_train_data.ipynb\", \"data\": \"C:\\\\Users\\\\berkayg\\\\Desktop\\\\Coding env\\\\ test-case\\\\products\\\\cleaned_train_data.csv\"}\n"
   ]
  },
  {
   "cell_type": "code",
   "execution_count": 3,
   "metadata": {
    "execution": {
     "iopub.execute_input": "2022-04-11T00:37:05.312026Z",
     "iopub.status.busy": "2022-04-11T00:37:05.311026Z",
     "iopub.status.idle": "2022-04-11T00:37:05.916068Z",
     "shell.execute_reply": "2022-04-11T00:37:05.915085Z"
    },
    "papermill": {
     "duration": 0.612042,
     "end_time": "2022-04-11T00:37:05.918068",
     "exception": false,
     "start_time": "2022-04-11T00:37:05.306026",
     "status": "completed"
    }
   },
   "outputs": [],
   "source": [
    "from src.data.config_reader import *\n",
    "from src.data.path_finder import *\n",
    "from src.data.database_configurations import *\n",
    "\n",
    "import pandas as pd\n",
    "import numpy as np"
   ]
  },
  {
   "cell_type": "code",
   "execution_count": 1,
   "metadata": {
    "execution": {
     "iopub.execute_input": "2022-04-11T00:37:05.928069Z",
     "iopub.status.busy": "2022-04-11T00:37:05.928069Z",
     "iopub.status.idle": "2022-04-11T00:37:05.994178Z",
     "shell.execute_reply": "2022-04-11T00:37:05.993266Z"
    },
    "papermill": {
     "duration": 0.074123,
     "end_time": "2022-04-11T00:37:05.996210",
     "exception": false,
     "start_time": "2022-04-11T00:37:05.922087",
     "status": "completed"
    }
   },
   "outputs": [],
   "source": [
    "# Creating an SQLite database into which we can consolidate the seperate csv files as SQL tables\n",
    "initiate_database()"
   ]
  },
  {
   "cell_type": "code",
   "execution_count": 5,
   "metadata": {
    "execution": {
     "iopub.execute_input": "2022-04-11T00:37:06.004211Z",
     "iopub.status.busy": "2022-04-11T00:37:06.004211Z",
     "iopub.status.idle": "2022-04-11T00:37:06.073297Z",
     "shell.execute_reply": "2022-04-11T00:37:06.072327Z"
    },
    "papermill": {
     "duration": 0.076146,
     "end_time": "2022-04-11T00:37:06.076325",
     "exception": false,
     "start_time": "2022-04-11T00:37:06.000179",
     "status": "completed"
    }
   },
   "outputs": [],
   "source": [
    "# Access database\n",
    "conn = connect_db()"
   ]
  },
  {
   "cell_type": "markdown",
   "metadata": {},
   "source": [
    "## Data Manipulation and Cleaning"
   ]
  },
  {
   "cell_type": "markdown",
   "metadata": {},
   "source": [
    "The aim is to transform the original train dataset into a binary classification suitable format. The original data consists only of the purchases __made__ by the users. In other words the data does not contain label \"0\". \n",
    "\n",
    "To overcome this problem, I have applied some manipulation techniques to join non-present **__currentbugroupname__** values to the original data; since non-presence indicates that the user did not purchase any thing with the given **__currentbugroupname__** label."
   ]
  },
  {
   "cell_type": "code",
   "execution_count": 6,
   "metadata": {
    "execution": {
     "iopub.execute_input": "2022-04-11T00:37:06.918618Z",
     "iopub.status.busy": "2022-04-11T00:37:06.917593Z",
     "iopub.status.idle": "2022-04-11T00:37:07.110236Z",
     "shell.execute_reply": "2022-04-11T00:37:07.109358Z"
    },
    "papermill": {
     "duration": 0.200665,
     "end_time": "2022-04-11T00:37:07.112255",
     "exception": false,
     "start_time": "2022-04-11T00:37:06.911590",
     "status": "completed"
    }
   },
   "outputs": [],
   "source": [
    "# Here we start manipulating the train dataset\n",
    "df_target_train = pd.read_sql(\"SELECT * FROM df_target_train\", conn)\n",
    "df_target_train[\"userid\"] = df_target_train[\"userid\"].astype(str)\n",
    "df_target_train.sort_values(\"userid\", inplace=True)\n",
    "df_target_train.dropna(subset=[\"currentbugroupname\"], inplace=True)"
   ]
  },
  {
   "cell_type": "code",
   "execution_count": 7,
   "metadata": {
    "execution": {
     "iopub.execute_input": "2022-04-11T00:37:07.124223Z",
     "iopub.status.busy": "2022-04-11T00:37:07.123224Z",
     "iopub.status.idle": "2022-04-11T00:37:07.567323Z",
     "shell.execute_reply": "2022-04-11T00:37:07.566346Z"
    },
    "papermill": {
     "duration": 0.452084,
     "end_time": "2022-04-11T00:37:07.569313",
     "exception": false,
     "start_time": "2022-04-11T00:37:07.117229",
     "status": "completed"
    }
   },
   "outputs": [],
   "source": [
    "# We now instantiate an empty DataFrame that will end up containing all the currentbugroupname combinations for each user\n",
    "df_target_train_cleaned = pd.DataFrame()\n",
    "\n",
    "# Storing unique userids and groupnames in order to create all \"userid - currentbugroupname\" scenarios\n",
    "df_target_train_cleaned[\"userid\"] = df_target_train[\"userid\"].sort_values().unique()\n",
    "df_target_train_cleaned[\"groupname\"] = [df_target_train[\"currentbugroupname\"].sort_values().unique().tolist()] * df_target_train_cleaned[\"userid\"].nunique()\n",
    "df_target_train_cleaned = df_target_train_cleaned.explode(\"groupname\").sort_values(\"userid\").reset_index(drop=True)\n",
    "df_target_train_cleaned.sort_values([\"userid\"], inplace=True)\n",
    "df_target_train_cleaned.reset_index(drop=True, inplace=True)"
   ]
  },
  {
   "cell_type": "code",
   "execution_count": 8,
   "metadata": {
    "execution": {
     "iopub.execute_input": "2022-04-11T00:37:07.583326Z",
     "iopub.status.busy": "2022-04-11T00:37:07.583326Z",
     "iopub.status.idle": "2022-04-11T00:37:07.677508Z",
     "shell.execute_reply": "2022-04-11T00:37:07.676636Z"
    },
    "papermill": {
     "duration": 0.104187,
     "end_time": "2022-04-11T00:37:07.679510",
     "exception": false,
     "start_time": "2022-04-11T00:37:07.575323",
     "status": "completed"
    }
   },
   "outputs": [],
   "source": [
    "groupname_list = df_target_train[\"currentbugroupname\"].sort_values().unique().tolist()"
   ]
  },
  {
   "cell_type": "code",
   "execution_count": 9,
   "metadata": {
    "execution": {
     "iopub.execute_input": "2022-04-11T00:37:07.691513Z",
     "iopub.status.busy": "2022-04-11T00:37:07.690509Z",
     "iopub.status.idle": "2022-04-11T00:38:10.694552Z",
     "shell.execute_reply": "2022-04-11T00:38:10.693584Z"
    },
    "papermill": {
     "duration": 63.012045,
     "end_time": "2022-04-11T00:38:10.696554",
     "exception": false,
     "start_time": "2022-04-11T00:37:07.684509",
     "status": "completed"
    }
   },
   "outputs": [],
   "source": [
    "# After creating a synthetic train dataset we can gather the purchase information from the original data\n",
    "# and use the information to label the corresponding rows as \"1\"\n",
    "merged = pd.merge(df_target_train, df_target_train_cleaned, how='left', on=['userid'])\n",
    "merged.sort_values(\"userid\", inplace=True)\n",
    "\n",
    "# Necessary operations to align the group names and purchases\n",
    "# (i.e, if the user purchased an FMCG product the label will be \"1\")\n",
    "merged[\"bol\"] = merged.groupby([\"userid\", \"currentbugroupname\"]).currentbugroupname.transform(lambda x: x.duplicated())\n",
    "merged[\"currentbugroupname\"] = merged.apply(lambda x: np.nan if x[\"bol\"] else x[\"currentbugroupname\"], axis=1)\n",
    "merged.reset_index(drop=True, inplace=True)\n",
    "merged[\"y\"] = merged.groupby(\"userid\").apply(lambda x: x[\"groupname\"].isin(x[\"currentbugroupname\"])).reset_index()[\"groupname\"].replace({True:1, False:0})\n",
    "\n",
    "merged.drop(columns=[\"bol\", \"currentbugroupname\"], inplace=True)\n",
    "merged.drop_duplicates(subset=[\"userid\", \"groupname\"], inplace=True)\n",
    "merged.rename(columns={\"groupname\": \"currentbugroupname\"}, inplace=True)"
   ]
  },
  {
   "cell_type": "code",
   "execution_count": 10,
   "metadata": {
    "execution": {
     "iopub.execute_input": "2022-04-11T00:38:10.708555Z",
     "iopub.status.busy": "2022-04-11T00:38:10.708555Z",
     "iopub.status.idle": "2022-04-11T00:38:10.787862Z",
     "shell.execute_reply": "2022-04-11T00:38:10.786957Z"
    },
    "papermill": {
     "duration": 0.088289,
     "end_time": "2022-04-11T00:38:10.789854",
     "exception": false,
     "start_time": "2022-04-11T00:38:10.701565",
     "status": "completed"
    }
   },
   "outputs": [
    {
     "data": {
      "text/html": [
       "<div>\n",
       "<style scoped>\n",
       "    .dataframe tbody tr th:only-of-type {\n",
       "        vertical-align: middle;\n",
       "    }\n",
       "\n",
       "    .dataframe tbody tr th {\n",
       "        vertical-align: top;\n",
       "    }\n",
       "\n",
       "    .dataframe thead th {\n",
       "        text-align: right;\n",
       "    }\n",
       "</style>\n",
       "<table border=\"1\" class=\"dataframe\">\n",
       "  <thead>\n",
       "    <tr style=\"text-align: right;\">\n",
       "      <th></th>\n",
       "      <th>userid</th>\n",
       "      <th>probability</th>\n",
       "      <th>target</th>\n",
       "      <th>currentbugroupname</th>\n",
       "      <th>y</th>\n",
       "    </tr>\n",
       "  </thead>\n",
       "  <tbody>\n",
       "    <tr>\n",
       "      <th>0</th>\n",
       "      <td>10000970</td>\n",
       "      <td>None</td>\n",
       "      <td>None</td>\n",
       "      <td>Aksesuar &amp; Saat &amp; Gözlük</td>\n",
       "      <td>1</td>\n",
       "    </tr>\n",
       "    <tr>\n",
       "      <th>1</th>\n",
       "      <td>10000970</td>\n",
       "      <td>None</td>\n",
       "      <td>None</td>\n",
       "      <td>Kozmetik</td>\n",
       "      <td>1</td>\n",
       "    </tr>\n",
       "    <tr>\n",
       "      <th>2</th>\n",
       "      <td>10000970</td>\n",
       "      <td>None</td>\n",
       "      <td>None</td>\n",
       "      <td>Mobilya</td>\n",
       "      <td>1</td>\n",
       "    </tr>\n",
       "    <tr>\n",
       "      <th>3</th>\n",
       "      <td>10000970</td>\n",
       "      <td>None</td>\n",
       "      <td>None</td>\n",
       "      <td>Private Label</td>\n",
       "      <td>1</td>\n",
       "    </tr>\n",
       "    <tr>\n",
       "      <th>4</th>\n",
       "      <td>10000970</td>\n",
       "      <td>None</td>\n",
       "      <td>None</td>\n",
       "      <td>FMCG</td>\n",
       "      <td>1</td>\n",
       "    </tr>\n",
       "    <tr>\n",
       "      <th>6</th>\n",
       "      <td>10000970</td>\n",
       "      <td>None</td>\n",
       "      <td>None</td>\n",
       "      <td>Ev</td>\n",
       "      <td>1</td>\n",
       "    </tr>\n",
       "    <tr>\n",
       "      <th>7</th>\n",
       "      <td>10000970</td>\n",
       "      <td>None</td>\n",
       "      <td>None</td>\n",
       "      <td>GAS</td>\n",
       "      <td>1</td>\n",
       "    </tr>\n",
       "    <tr>\n",
       "      <th>8</th>\n",
       "      <td>10000970</td>\n",
       "      <td>None</td>\n",
       "      <td>None</td>\n",
       "      <td>Ayakkabı &amp; Çanta</td>\n",
       "      <td>1</td>\n",
       "    </tr>\n",
       "    <tr>\n",
       "      <th>9</th>\n",
       "      <td>10000970</td>\n",
       "      <td>None</td>\n",
       "      <td>None</td>\n",
       "      <td>Elektronik</td>\n",
       "      <td>1</td>\n",
       "    </tr>\n",
       "    <tr>\n",
       "      <th>10</th>\n",
       "      <td>10000970</td>\n",
       "      <td>None</td>\n",
       "      <td>None</td>\n",
       "      <td>GM</td>\n",
       "      <td>1</td>\n",
       "    </tr>\n",
       "    <tr>\n",
       "      <th>11</th>\n",
       "      <td>10000970</td>\n",
       "      <td>None</td>\n",
       "      <td>None</td>\n",
       "      <td>Digital Goods</td>\n",
       "      <td>1</td>\n",
       "    </tr>\n",
       "    <tr>\n",
       "      <th>15</th>\n",
       "      <td>10000970</td>\n",
       "      <td>None</td>\n",
       "      <td>None</td>\n",
       "      <td>Branded Tekstil</td>\n",
       "      <td>1</td>\n",
       "    </tr>\n",
       "    <tr>\n",
       "      <th>144</th>\n",
       "      <td>1000454</td>\n",
       "      <td>None</td>\n",
       "      <td>None</td>\n",
       "      <td>Private Label</td>\n",
       "      <td>1</td>\n",
       "    </tr>\n",
       "    <tr>\n",
       "      <th>145</th>\n",
       "      <td>1000454</td>\n",
       "      <td>None</td>\n",
       "      <td>None</td>\n",
       "      <td>GAS</td>\n",
       "      <td>1</td>\n",
       "    </tr>\n",
       "  </tbody>\n",
       "</table>\n",
       "</div>"
      ],
      "text/plain": [
       "       userid probability target        currentbugroupname  y\n",
       "0    10000970        None   None  Aksesuar & Saat & Gözlük  1\n",
       "1    10000970        None   None                  Kozmetik  1\n",
       "2    10000970        None   None                   Mobilya  1\n",
       "3    10000970        None   None             Private Label  1\n",
       "4    10000970        None   None                      FMCG  1\n",
       "6    10000970        None   None                        Ev  1\n",
       "7    10000970        None   None                       GAS  1\n",
       "8    10000970        None   None          Ayakkabı & Çanta  1\n",
       "9    10000970        None   None                Elektronik  1\n",
       "10   10000970        None   None                        GM  1\n",
       "11   10000970        None   None             Digital Goods  1\n",
       "15   10000970        None   None           Branded Tekstil  1\n",
       "144   1000454        None   None             Private Label  1\n",
       "145   1000454        None   None                       GAS  1"
      ]
     },
     "execution_count": 10,
     "metadata": {},
     "output_type": "execute_result"
    }
   ],
   "source": [
    "# Notice that all 12 distinct groupnames are labeled accordingly for each user\n",
    "merged.head(14)"
   ]
  },
  {
   "cell_type": "code",
   "execution_count": 11,
   "metadata": {
    "execution": {
     "iopub.execute_input": "2022-04-11T00:38:10.799823Z",
     "iopub.status.busy": "2022-04-11T00:38:10.799823Z",
     "iopub.status.idle": "2022-04-11T00:38:13.368236Z",
     "shell.execute_reply": "2022-04-11T00:38:13.368236Z"
    },
    "papermill": {
     "duration": 2.575439,
     "end_time": "2022-04-11T00:38:13.370269",
     "exception": false,
     "start_time": "2022-04-11T00:38:10.794830",
     "status": "completed"
    }
   },
   "outputs": [
    {
     "data": {
      "text/html": [
       "<div>\n",
       "<style scoped>\n",
       "    .dataframe tbody tr th:only-of-type {\n",
       "        vertical-align: middle;\n",
       "    }\n",
       "\n",
       "    .dataframe tbody tr th {\n",
       "        vertical-align: top;\n",
       "    }\n",
       "\n",
       "    .dataframe thead th {\n",
       "        text-align: right;\n",
       "    }\n",
       "</style>\n",
       "<table border=\"1\" class=\"dataframe\">\n",
       "  <thead>\n",
       "    <tr style=\"text-align: right;\">\n",
       "      <th></th>\n",
       "      <th>contentid</th>\n",
       "      <th>currentbugroupname</th>\n",
       "    </tr>\n",
       "  </thead>\n",
       "  <tbody>\n",
       "    <tr>\n",
       "      <th>0</th>\n",
       "      <td>40100964</td>\n",
       "      <td>Ayakkabı &amp; Çanta</td>\n",
       "    </tr>\n",
       "    <tr>\n",
       "      <th>1</th>\n",
       "      <td>40427970</td>\n",
       "      <td>Branded Tekstil</td>\n",
       "    </tr>\n",
       "    <tr>\n",
       "      <th>2</th>\n",
       "      <td>41026644</td>\n",
       "      <td>FMCG</td>\n",
       "    </tr>\n",
       "    <tr>\n",
       "      <th>3</th>\n",
       "      <td>41227029</td>\n",
       "      <td>Branded Tekstil</td>\n",
       "    </tr>\n",
       "    <tr>\n",
       "      <th>4</th>\n",
       "      <td>40770080</td>\n",
       "      <td>Ev</td>\n",
       "    </tr>\n",
       "  </tbody>\n",
       "</table>\n",
       "</div>"
      ],
      "text/plain": [
       "   contentid currentbugroupname\n",
       "0   40100964   Ayakkabı & Çanta\n",
       "1   40427970    Branded Tekstil\n",
       "2   41026644               FMCG\n",
       "3   41227029    Branded Tekstil\n",
       "4   40770080                 Ev"
      ]
     },
     "execution_count": 11,
     "metadata": {},
     "output_type": "execute_result"
    }
   ],
   "source": [
    "# Upon obtaining a suitable dataframe, we can start connecting other tables in the db\n",
    "# To this end we will create a dictionary that will provide a valid currentbugroupname for each content in the database\n",
    "df_products = pd.read_sql(\"SELECT contentid, currentbugroupname FROM df_product\", conn)\n",
    "df_products.head()"
   ]
  },
  {
   "cell_type": "code",
   "execution_count": 12,
   "metadata": {
    "execution": {
     "iopub.execute_input": "2022-04-11T00:38:13.385237Z",
     "iopub.status.busy": "2022-04-11T00:38:13.384249Z",
     "iopub.status.idle": "2022-04-11T00:38:14.980680Z",
     "shell.execute_reply": "2022-04-11T00:38:14.979814Z"
    },
    "papermill": {
     "duration": 1.605429,
     "end_time": "2022-04-11T00:38:14.982678",
     "exception": false,
     "start_time": "2022-04-11T00:38:13.377249",
     "status": "completed"
    }
   },
   "outputs": [],
   "source": [
    "products_dict = df_products.set_index(\"contentid\").to_dict(\"dict\")[\"currentbugroupname\"]"
   ]
  },
  {
   "cell_type": "code",
   "execution_count": 13,
   "metadata": {
    "execution": {
     "iopub.execute_input": "2022-04-11T00:38:14.995683Z",
     "iopub.status.busy": "2022-04-11T00:38:14.995683Z",
     "iopub.status.idle": "2022-04-11T00:39:24.520542Z",
     "shell.execute_reply": "2022-04-11T00:39:24.519630Z"
    },
    "papermill": {
     "duration": 69.534865,
     "end_time": "2022-04-11T00:39:24.522546",
     "exception": false,
     "start_time": "2022-04-11T00:38:14.987681",
     "status": "completed"
    }
   },
   "outputs": [],
   "source": [
    "# Now we can use this dictionary to create a currentbugroupname column in each table that contains contentid\n",
    "m = merged.copy()\n",
    "\n",
    "# We will use a for loop to iterate over the tables to link the contents to the group names and join the tables each other\n",
    "for table in [\"df_demo\", \"df_basket\", \"df_visit\", \"df_trx\", \"df_fav\"]:\n",
    "    df_table = pd.read_sql(f\"SELECT * FROM {table}\", conn)\n",
    "    df_table[\"userid\"] = df_table[\"userid\"].astype(str)\n",
    "    \n",
    "    # Demographical data does not contain content, thus it will be handled with an else statement\n",
    "    if table != \"df_demo\":\n",
    "        df_table[\"currentbugroupname\"] = df_table[\"contentid\"].map(products_dict)\n",
    "        df_table = df_table.groupby([\"userid\", \"currentbugroupname\"]).sum().reset_index().drop(columns=[\"contentid\"])\n",
    "        column_names = [f'{k}_{table.replace(\"df_\", \"\")}' if k not in [\"userid\", \"currentbugroupname\"] else k for k in df_table.columns]\n",
    "        df_table.columns = column_names\n",
    "        m = m.merge(df_table, on=[\"userid\", \"currentbugroupname\"], how=\"left\")      \n",
    "    else:\n",
    "        df_table[\"gender\"].str.replace(\"kvkktalepsilindi\", \"UNKNOWN\")\n",
    "        df_table[\"age\"] = np.where(df_table[\"age\"]>100, np.nan, df_table[\"age\"])\n",
    "        df_table[\"age\"] = np.where(df_table[\"age\"]<5, np.nan, df_table[\"age\"])\n",
    "        m = m.merge(df_table, on=[\"userid\"], how=\"left\")"
   ]
  },
  {
   "cell_type": "code",
   "execution_count": 14,
   "metadata": {
    "execution": {
     "iopub.execute_input": "2022-04-11T00:39:24.536544Z",
     "iopub.status.busy": "2022-04-11T00:39:24.536544Z",
     "iopub.status.idle": "2022-04-11T00:39:24.630724Z",
     "shell.execute_reply": "2022-04-11T00:39:24.629715Z"
    },
    "papermill": {
     "duration": 0.104213,
     "end_time": "2022-04-11T00:39:24.632757",
     "exception": false,
     "start_time": "2022-04-11T00:39:24.528544",
     "status": "completed"
    }
   },
   "outputs": [
    {
     "data": {
      "text/html": [
       "<div>\n",
       "<style scoped>\n",
       "    .dataframe tbody tr th:only-of-type {\n",
       "        vertical-align: middle;\n",
       "    }\n",
       "\n",
       "    .dataframe tbody tr th {\n",
       "        vertical-align: top;\n",
       "    }\n",
       "\n",
       "    .dataframe thead th {\n",
       "        text-align: right;\n",
       "    }\n",
       "</style>\n",
       "<table border=\"1\" class=\"dataframe\">\n",
       "  <thead>\n",
       "    <tr style=\"text-align: right;\">\n",
       "      <th></th>\n",
       "      <th>userid</th>\n",
       "      <th>probability</th>\n",
       "      <th>target</th>\n",
       "      <th>currentbugroupname</th>\n",
       "      <th>y</th>\n",
       "      <th>gender</th>\n",
       "      <th>age</th>\n",
       "      <th>tenure</th>\n",
       "      <th>addtobasket_count_basket</th>\n",
       "      <th>productdetailcount_visit</th>\n",
       "      <th>quantity_trx</th>\n",
       "      <th>price_trx</th>\n",
       "      <th>fav_count_fav</th>\n",
       "    </tr>\n",
       "  </thead>\n",
       "  <tbody>\n",
       "    <tr>\n",
       "      <th>0</th>\n",
       "      <td>10000970</td>\n",
       "      <td>None</td>\n",
       "      <td>None</td>\n",
       "      <td>Aksesuar &amp; Saat &amp; Gözlük</td>\n",
       "      <td>1</td>\n",
       "      <td>Bayan</td>\n",
       "      <td>50.0</td>\n",
       "      <td>85</td>\n",
       "      <td>NaN</td>\n",
       "      <td>336.0</td>\n",
       "      <td>2.0</td>\n",
       "      <td>225.89</td>\n",
       "      <td>45.0</td>\n",
       "    </tr>\n",
       "    <tr>\n",
       "      <th>1</th>\n",
       "      <td>10000970</td>\n",
       "      <td>None</td>\n",
       "      <td>None</td>\n",
       "      <td>Kozmetik</td>\n",
       "      <td>1</td>\n",
       "      <td>Bayan</td>\n",
       "      <td>50.0</td>\n",
       "      <td>85</td>\n",
       "      <td>NaN</td>\n",
       "      <td>138.0</td>\n",
       "      <td>3.0</td>\n",
       "      <td>102.62</td>\n",
       "      <td>9.0</td>\n",
       "    </tr>\n",
       "    <tr>\n",
       "      <th>2</th>\n",
       "      <td>10000970</td>\n",
       "      <td>None</td>\n",
       "      <td>None</td>\n",
       "      <td>Mobilya</td>\n",
       "      <td>1</td>\n",
       "      <td>Bayan</td>\n",
       "      <td>50.0</td>\n",
       "      <td>85</td>\n",
       "      <td>NaN</td>\n",
       "      <td>NaN</td>\n",
       "      <td>NaN</td>\n",
       "      <td>NaN</td>\n",
       "      <td>NaN</td>\n",
       "    </tr>\n",
       "    <tr>\n",
       "      <th>3</th>\n",
       "      <td>10000970</td>\n",
       "      <td>None</td>\n",
       "      <td>None</td>\n",
       "      <td>Private Label</td>\n",
       "      <td>1</td>\n",
       "      <td>Bayan</td>\n",
       "      <td>50.0</td>\n",
       "      <td>85</td>\n",
       "      <td>NaN</td>\n",
       "      <td>19.0</td>\n",
       "      <td>NaN</td>\n",
       "      <td>NaN</td>\n",
       "      <td>2.0</td>\n",
       "    </tr>\n",
       "    <tr>\n",
       "      <th>4</th>\n",
       "      <td>10000970</td>\n",
       "      <td>None</td>\n",
       "      <td>None</td>\n",
       "      <td>FMCG</td>\n",
       "      <td>1</td>\n",
       "      <td>Bayan</td>\n",
       "      <td>50.0</td>\n",
       "      <td>85</td>\n",
       "      <td>NaN</td>\n",
       "      <td>4.0</td>\n",
       "      <td>NaN</td>\n",
       "      <td>NaN</td>\n",
       "      <td>NaN</td>\n",
       "    </tr>\n",
       "  </tbody>\n",
       "</table>\n",
       "</div>"
      ],
      "text/plain": [
       "     userid probability target        currentbugroupname  y gender   age  \\\n",
       "0  10000970        None   None  Aksesuar & Saat & Gözlük  1  Bayan  50.0   \n",
       "1  10000970        None   None                  Kozmetik  1  Bayan  50.0   \n",
       "2  10000970        None   None                   Mobilya  1  Bayan  50.0   \n",
       "3  10000970        None   None             Private Label  1  Bayan  50.0   \n",
       "4  10000970        None   None                      FMCG  1  Bayan  50.0   \n",
       "\n",
       "   tenure  addtobasket_count_basket  productdetailcount_visit  quantity_trx  \\\n",
       "0      85                       NaN                     336.0           2.0   \n",
       "1      85                       NaN                     138.0           3.0   \n",
       "2      85                       NaN                       NaN           NaN   \n",
       "3      85                       NaN                      19.0           NaN   \n",
       "4      85                       NaN                       4.0           NaN   \n",
       "\n",
       "   price_trx  fav_count_fav  \n",
       "0     225.89           45.0  \n",
       "1     102.62            9.0  \n",
       "2        NaN            NaN  \n",
       "3        NaN            2.0  \n",
       "4        NaN            NaN  "
      ]
     },
     "execution_count": 14,
     "metadata": {},
     "output_type": "execute_result"
    }
   ],
   "source": [
    "# Table \"m\" seems more eligible for the task at hand now!\n",
    "m.head()"
   ]
  },
  {
   "cell_type": "code",
   "execution_count": 15,
   "metadata": {
    "execution": {
     "iopub.execute_input": "2022-04-11T00:39:24.646506Z",
     "iopub.status.busy": "2022-04-11T00:39:24.646506Z",
     "iopub.status.idle": "2022-04-11T00:39:24.773512Z",
     "shell.execute_reply": "2022-04-11T00:39:24.772507Z"
    },
    "papermill": {
     "duration": 0.138031,
     "end_time": "2022-04-11T00:39:24.775508",
     "exception": false,
     "start_time": "2022-04-11T00:39:24.637477",
     "status": "completed"
    }
   },
   "outputs": [
    {
     "data": {
      "text/html": [
       "<div>\n",
       "<style scoped>\n",
       "    .dataframe tbody tr th:only-of-type {\n",
       "        vertical-align: middle;\n",
       "    }\n",
       "\n",
       "    .dataframe tbody tr th {\n",
       "        vertical-align: top;\n",
       "    }\n",
       "\n",
       "    .dataframe thead th {\n",
       "        text-align: right;\n",
       "    }\n",
       "</style>\n",
       "<table border=\"1\" class=\"dataframe\">\n",
       "  <thead>\n",
       "    <tr style=\"text-align: right;\">\n",
       "      <th></th>\n",
       "      <th>userid</th>\n",
       "      <th>probability</th>\n",
       "      <th>target</th>\n",
       "      <th>currentbugroupname</th>\n",
       "      <th>y</th>\n",
       "      <th>gender</th>\n",
       "      <th>age</th>\n",
       "      <th>tenure</th>\n",
       "      <th>addtobasket_count_basket</th>\n",
       "      <th>productdetailcount_visit</th>\n",
       "      <th>quantity_trx</th>\n",
       "      <th>price_trx</th>\n",
       "      <th>fav_count_fav</th>\n",
       "    </tr>\n",
       "  </thead>\n",
       "  <tbody>\n",
       "    <tr>\n",
       "      <th>0</th>\n",
       "      <td>10000970</td>\n",
       "      <td>None</td>\n",
       "      <td>None</td>\n",
       "      <td>Aksesuar &amp; Saat &amp; Gözlük</td>\n",
       "      <td>1</td>\n",
       "      <td>Bayan</td>\n",
       "      <td>50.0</td>\n",
       "      <td>85</td>\n",
       "      <td>0.0</td>\n",
       "      <td>336.0</td>\n",
       "      <td>2.0</td>\n",
       "      <td>225.89</td>\n",
       "      <td>45.0</td>\n",
       "    </tr>\n",
       "    <tr>\n",
       "      <th>1</th>\n",
       "      <td>10000970</td>\n",
       "      <td>None</td>\n",
       "      <td>None</td>\n",
       "      <td>Kozmetik</td>\n",
       "      <td>1</td>\n",
       "      <td>Bayan</td>\n",
       "      <td>50.0</td>\n",
       "      <td>85</td>\n",
       "      <td>0.0</td>\n",
       "      <td>138.0</td>\n",
       "      <td>3.0</td>\n",
       "      <td>102.62</td>\n",
       "      <td>9.0</td>\n",
       "    </tr>\n",
       "    <tr>\n",
       "      <th>2</th>\n",
       "      <td>10000970</td>\n",
       "      <td>None</td>\n",
       "      <td>None</td>\n",
       "      <td>Mobilya</td>\n",
       "      <td>1</td>\n",
       "      <td>Bayan</td>\n",
       "      <td>50.0</td>\n",
       "      <td>85</td>\n",
       "      <td>0.0</td>\n",
       "      <td>0.0</td>\n",
       "      <td>0.0</td>\n",
       "      <td>0.00</td>\n",
       "      <td>0.0</td>\n",
       "    </tr>\n",
       "    <tr>\n",
       "      <th>3</th>\n",
       "      <td>10000970</td>\n",
       "      <td>None</td>\n",
       "      <td>None</td>\n",
       "      <td>Private Label</td>\n",
       "      <td>1</td>\n",
       "      <td>Bayan</td>\n",
       "      <td>50.0</td>\n",
       "      <td>85</td>\n",
       "      <td>0.0</td>\n",
       "      <td>19.0</td>\n",
       "      <td>0.0</td>\n",
       "      <td>0.00</td>\n",
       "      <td>2.0</td>\n",
       "    </tr>\n",
       "    <tr>\n",
       "      <th>4</th>\n",
       "      <td>10000970</td>\n",
       "      <td>None</td>\n",
       "      <td>None</td>\n",
       "      <td>FMCG</td>\n",
       "      <td>1</td>\n",
       "      <td>Bayan</td>\n",
       "      <td>50.0</td>\n",
       "      <td>85</td>\n",
       "      <td>0.0</td>\n",
       "      <td>4.0</td>\n",
       "      <td>0.0</td>\n",
       "      <td>0.00</td>\n",
       "      <td>0.0</td>\n",
       "    </tr>\n",
       "    <tr>\n",
       "      <th>...</th>\n",
       "      <td>...</td>\n",
       "      <td>...</td>\n",
       "      <td>...</td>\n",
       "      <td>...</td>\n",
       "      <td>...</td>\n",
       "      <td>...</td>\n",
       "      <td>...</td>\n",
       "      <td>...</td>\n",
       "      <td>...</td>\n",
       "      <td>...</td>\n",
       "      <td>...</td>\n",
       "      <td>...</td>\n",
       "      <td>...</td>\n",
       "    </tr>\n",
       "    <tr>\n",
       "      <th>244831</th>\n",
       "      <td>9998170</td>\n",
       "      <td>None</td>\n",
       "      <td>None</td>\n",
       "      <td>GAS</td>\n",
       "      <td>1</td>\n",
       "      <td>Bayan</td>\n",
       "      <td>24.0</td>\n",
       "      <td>85</td>\n",
       "      <td>0.0</td>\n",
       "      <td>0.0</td>\n",
       "      <td>0.0</td>\n",
       "      <td>0.00</td>\n",
       "      <td>0.0</td>\n",
       "    </tr>\n",
       "    <tr>\n",
       "      <th>244832</th>\n",
       "      <td>9998170</td>\n",
       "      <td>None</td>\n",
       "      <td>None</td>\n",
       "      <td>Digital Goods</td>\n",
       "      <td>1</td>\n",
       "      <td>Bayan</td>\n",
       "      <td>24.0</td>\n",
       "      <td>85</td>\n",
       "      <td>0.0</td>\n",
       "      <td>0.0</td>\n",
       "      <td>0.0</td>\n",
       "      <td>0.00</td>\n",
       "      <td>0.0</td>\n",
       "    </tr>\n",
       "    <tr>\n",
       "      <th>244833</th>\n",
       "      <td>9998170</td>\n",
       "      <td>None</td>\n",
       "      <td>None</td>\n",
       "      <td>Branded Tekstil</td>\n",
       "      <td>1</td>\n",
       "      <td>Bayan</td>\n",
       "      <td>24.0</td>\n",
       "      <td>85</td>\n",
       "      <td>0.0</td>\n",
       "      <td>233.0</td>\n",
       "      <td>0.0</td>\n",
       "      <td>0.00</td>\n",
       "      <td>0.0</td>\n",
       "    </tr>\n",
       "    <tr>\n",
       "      <th>244834</th>\n",
       "      <td>9998170</td>\n",
       "      <td>None</td>\n",
       "      <td>None</td>\n",
       "      <td>FMCG</td>\n",
       "      <td>1</td>\n",
       "      <td>Bayan</td>\n",
       "      <td>24.0</td>\n",
       "      <td>85</td>\n",
       "      <td>0.0</td>\n",
       "      <td>17.0</td>\n",
       "      <td>0.0</td>\n",
       "      <td>0.00</td>\n",
       "      <td>0.0</td>\n",
       "    </tr>\n",
       "    <tr>\n",
       "      <th>244835</th>\n",
       "      <td>9998170</td>\n",
       "      <td>None</td>\n",
       "      <td>None</td>\n",
       "      <td>Ayakkabı &amp; Çanta</td>\n",
       "      <td>1</td>\n",
       "      <td>Bayan</td>\n",
       "      <td>24.0</td>\n",
       "      <td>85</td>\n",
       "      <td>0.0</td>\n",
       "      <td>2.0</td>\n",
       "      <td>0.0</td>\n",
       "      <td>0.00</td>\n",
       "      <td>0.0</td>\n",
       "    </tr>\n",
       "  </tbody>\n",
       "</table>\n",
       "<p>244836 rows × 13 columns</p>\n",
       "</div>"
      ],
      "text/plain": [
       "          userid probability target        currentbugroupname  y gender   age  \\\n",
       "0       10000970        None   None  Aksesuar & Saat & Gözlük  1  Bayan  50.0   \n",
       "1       10000970        None   None                  Kozmetik  1  Bayan  50.0   \n",
       "2       10000970        None   None                   Mobilya  1  Bayan  50.0   \n",
       "3       10000970        None   None             Private Label  1  Bayan  50.0   \n",
       "4       10000970        None   None                      FMCG  1  Bayan  50.0   \n",
       "...          ...         ...    ...                       ... ..    ...   ...   \n",
       "244831   9998170        None   None                       GAS  1  Bayan  24.0   \n",
       "244832   9998170        None   None             Digital Goods  1  Bayan  24.0   \n",
       "244833   9998170        None   None           Branded Tekstil  1  Bayan  24.0   \n",
       "244834   9998170        None   None                      FMCG  1  Bayan  24.0   \n",
       "244835   9998170        None   None          Ayakkabı & Çanta  1  Bayan  24.0   \n",
       "\n",
       "        tenure  addtobasket_count_basket  productdetailcount_visit  \\\n",
       "0           85                       0.0                     336.0   \n",
       "1           85                       0.0                     138.0   \n",
       "2           85                       0.0                       0.0   \n",
       "3           85                       0.0                      19.0   \n",
       "4           85                       0.0                       4.0   \n",
       "...        ...                       ...                       ...   \n",
       "244831      85                       0.0                       0.0   \n",
       "244832      85                       0.0                       0.0   \n",
       "244833      85                       0.0                     233.0   \n",
       "244834      85                       0.0                      17.0   \n",
       "244835      85                       0.0                       2.0   \n",
       "\n",
       "        quantity_trx  price_trx  fav_count_fav  \n",
       "0                2.0     225.89           45.0  \n",
       "1                3.0     102.62            9.0  \n",
       "2                0.0       0.00            0.0  \n",
       "3                0.0       0.00            2.0  \n",
       "4                0.0       0.00            0.0  \n",
       "...              ...        ...            ...  \n",
       "244831           0.0       0.00            0.0  \n",
       "244832           0.0       0.00            0.0  \n",
       "244833           0.0       0.00            0.0  \n",
       "244834           0.0       0.00            0.0  \n",
       "244835           0.0       0.00            0.0  \n",
       "\n",
       "[244836 rows x 13 columns]"
      ]
     },
     "execution_count": 15,
     "metadata": {},
     "output_type": "execute_result"
    }
   ],
   "source": [
    "# Imputing nan values\n",
    "na_columns = m.select_dtypes(include=np.number).drop(columns=[\"age\", \"y\"])\n",
    "na_columns.fillna(0, inplace=True)\n",
    "m.loc[:, na_columns.columns] = na_columns\n",
    "m"
   ]
  },
  {
   "cell_type": "code",
   "execution_count": 16,
   "metadata": {
    "execution": {
     "iopub.execute_input": "2022-04-11T00:39:24.790506Z",
     "iopub.status.busy": "2022-04-11T00:39:24.790506Z",
     "iopub.status.idle": "2022-04-11T00:39:24.899504Z",
     "shell.execute_reply": "2022-04-11T00:39:24.898505Z"
    },
    "papermill": {
     "duration": 0.120022,
     "end_time": "2022-04-11T00:39:24.901531",
     "exception": false,
     "start_time": "2022-04-11T00:39:24.781509",
     "status": "completed"
    }
   },
   "outputs": [
    {
     "data": {
      "text/plain": [
       "userid                           0\n",
       "probability                 244836\n",
       "target                      244836\n",
       "currentbugroupname               0\n",
       "y                                0\n",
       "gender                           0\n",
       "age                         140304\n",
       "tenure                           0\n",
       "addtobasket_count_basket         0\n",
       "productdetailcount_visit         0\n",
       "quantity_trx                     0\n",
       "price_trx                        0\n",
       "fav_count_fav                    0\n",
       "dtype: int64"
      ]
     },
     "execution_count": 16,
     "metadata": {},
     "output_type": "execute_result"
    }
   ],
   "source": [
    "m.isnull().sum()"
   ]
  },
  {
   "cell_type": "code",
   "execution_count": 17,
   "metadata": {
    "execution": {
     "iopub.execute_input": "2022-04-11T00:39:24.916513Z",
     "iopub.status.busy": "2022-04-11T00:39:24.915505Z",
     "iopub.status.idle": "2022-04-11T00:39:25.954635Z",
     "shell.execute_reply": "2022-04-11T00:39:25.953770Z"
    },
    "papermill": {
     "duration": 1.048132,
     "end_time": "2022-04-11T00:39:25.956638",
     "exception": false,
     "start_time": "2022-04-11T00:39:24.908506",
     "status": "completed"
    }
   },
   "outputs": [],
   "source": [
    "m.to_csv(product[\"data\"], index=False)"
   ]
  },
  {
   "cell_type": "code",
   "execution_count": null,
   "metadata": {},
   "outputs": [],
   "source": []
  }
 ],
 "metadata": {
  "kernelspec": {
   "display_name": "Python 3",
   "language": "python",
   "name": "python3"
  },
  "language_info": {
   "codemirror_mode": {
    "name": "ipython",
    "version": 3
   },
   "file_extension": ".py",
   "mimetype": "text/x-python",
   "name": "python",
   "nbconvert_exporter": "python",
   "pygments_lexer": "ipython3",
   "version": "3.7.6"
  },
  "papermill": {
   "parameters": {
    "product": {
     "data": "C:\\Users\\berkayg\\Desktop\\Coding env\\ test-case\\products\\cleaned_train_data.csv",
     "nb": "C:\\Users\\berkayg\\Desktop\\Coding env\\ test-case\\products\\clean_train_data.ipynb"
    }
   }
  },
  "ploomber": {
   "injected_manually": true
  }
 },
 "nbformat": 4,
 "nbformat_minor": 5
}
