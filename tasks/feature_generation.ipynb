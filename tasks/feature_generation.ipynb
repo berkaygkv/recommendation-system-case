{
 "cells": [
  {
   "cell_type": "code",
   "execution_count": 2,
   "id": "214a224f",
   "metadata": {
    "execution": {
     "iopub.execute_input": "2022-04-11T02:28:16.105599Z",
     "iopub.status.busy": "2022-04-11T02:28:16.104600Z",
     "iopub.status.idle": "2022-04-11T02:28:16.119736Z",
     "shell.execute_reply": "2022-04-11T02:28:16.118813Z"
    },
    "lines_to_next_cell": 2,
    "papermill": {
     "duration": 0.024164,
     "end_time": "2022-04-11T02:28:16.120736",
     "exception": false,
     "start_time": "2022-04-11T02:28:16.096572",
     "status": "completed"
    },
    "tags": [
     "parameters"
    ]
   },
   "outputs": [],
   "source": [
    "## SKIP THIS PART\n",
    "# Ploomber related variables\n",
    "upstream = None\n",
    "\n",
    "# This is a placeholder, leave it as None\n",
    "product = None"
   ]
  },
  {
   "cell_type": "code",
   "execution_count": null,
   "id": "f7672def",
   "metadata": {
    "tags": [
     "injected-parameters"
    ]
   },
   "outputs": [],
   "source": [
    "# Parameters\n",
    "input_path = \"products/cleaned_train_data.csv\"\n",
    "upstream = {\"clean\": {\"nb\": \"C:\\\\Users\\\\berkayg\\\\Desktop\\\\Coding env\\\\test-case\\\\products\\\\clean_train_data.ipynb\", \"data\": \"C:\\\\Users\\\\berkayg\\\\Desktop\\\\Coding env\\\\ test-case\\\\products\\\\cleaned_train_data.csv\"}}\n",
    "product = {\"nb\": \"C:\\\\Users\\\\berkayg\\\\Desktop\\\\Coding env\\\\ test-case\\\\products\\\\feature_generation_nb.ipynb\", \"data\": \"C:\\\\Users\\\\berkayg\\\\Desktop\\\\Coding env\\\\ test-case\\\\products\\\\processed_train_data.csv\"}\n"
   ]
  },
  {
   "cell_type": "markdown",
   "id": "99962d0c",
   "metadata": {
    "papermill": {
     "duration": 0.003988,
     "end_time": "2022-04-11T02:28:16.161743",
     "exception": false,
     "start_time": "2022-04-11T02:28:16.157755",
     "status": "completed"
    }
   },
   "source": [
    "## Feature Generation"
   ]
  },
  {
   "cell_type": "markdown",
   "id": "e2bb752c",
   "metadata": {
    "papermill": {
     "duration": 0.004,
     "end_time": "2022-04-11T02:28:16.169744",
     "exception": false,
     "start_time": "2022-04-11T02:28:16.165744",
     "status": "completed"
    }
   },
   "source": [
    "Search terms table carries a great deal of potential to encrich the dataset. We first need to use text vectorization techniques to create a structural data. To this end we will use __Term Frequency–Inverse Document Frequency (TFIDF)__. Simply put, we will try to match the search terms with the content category names so that we can see if a searching event can be linked to a content in the df_products table."
   ]
  },
  {
   "cell_type": "code",
   "execution_count": 4,
   "id": "c5d9eb11",
   "metadata": {
    "execution": {
     "iopub.execute_input": "2022-04-11T02:28:16.179780Z",
     "iopub.status.busy": "2022-04-11T02:28:16.179780Z",
     "iopub.status.idle": "2022-04-11T02:28:17.363850Z",
     "shell.execute_reply": "2022-04-11T02:28:17.363850Z"
    },
    "papermill": {
     "duration": 1.191105,
     "end_time": "2022-04-11T02:28:17.365850",
     "exception": false,
     "start_time": "2022-04-11T02:28:16.174745",
     "status": "completed"
    }
   },
   "outputs": [],
   "source": [
    "from src.data.config_reader import *\n",
    "from src.data.path_finder import *\n",
    "from src.data.database_configurations import *\n",
    "\n",
    "import pandas as pd\n",
    "import numpy as np\n",
    "from sklearn.feature_extraction.text import CountVectorizer, TfidfVectorizer\n",
    "from sklearn.metrics.pairwise import cosine_similarity"
   ]
  },
  {
   "cell_type": "code",
   "execution_count": 5,
   "id": "df621cff",
   "metadata": {
    "execution": {
     "iopub.execute_input": "2022-04-11T02:28:17.378852Z",
     "iopub.status.busy": "2022-04-11T02:28:17.377852Z",
     "iopub.status.idle": "2022-04-11T02:28:17.396871Z",
     "shell.execute_reply": "2022-04-11T02:28:17.395856Z"
    },
    "papermill": {
     "duration": 0.029002,
     "end_time": "2022-04-11T02:28:17.399853",
     "exception": false,
     "start_time": "2022-04-11T02:28:17.370851",
     "status": "completed"
    }
   },
   "outputs": [],
   "source": [
    "conn = connect_db()"
   ]
  },
  {
   "cell_type": "code",
   "execution_count": 6,
   "id": "cafe1965",
   "metadata": {
    "execution": {
     "iopub.execute_input": "2022-04-11T02:28:17.412853Z",
     "iopub.status.busy": "2022-04-11T02:28:17.412853Z",
     "iopub.status.idle": "2022-04-11T02:28:19.994301Z",
     "shell.execute_reply": "2022-04-11T02:28:19.993390Z"
    },
    "papermill": {
     "duration": 2.590434,
     "end_time": "2022-04-11T02:28:19.995302",
     "exception": false,
     "start_time": "2022-04-11T02:28:17.404868",
     "status": "completed"
    }
   },
   "outputs": [
    {
     "name": "stdout",
     "output_type": "stream",
     "text": [
      "(2529, 1)\n"
     ]
    }
   ],
   "source": [
    "# Get category names from the product table\n",
    "df_cats = pd.read_sql(\"SELECT categoryname FROM df_product\", conn)\n",
    "df_cats = df_cats.dropna().drop_duplicates()\n",
    "df_cats = df_cats.replace(\"[^\\w ]\", \"\", regex=True)\n",
    "print(df_cats.shape)"
   ]
  },
  {
   "cell_type": "code",
   "execution_count": 7,
   "id": "494abe9d",
   "metadata": {
    "execution": {
     "iopub.execute_input": "2022-04-11T02:28:20.009303Z",
     "iopub.status.busy": "2022-04-11T02:28:20.008302Z",
     "iopub.status.idle": "2022-04-11T02:28:24.798308Z",
     "shell.execute_reply": "2022-04-11T02:28:24.796887Z"
    },
    "papermill": {
     "duration": 4.80005,
     "end_time": "2022-04-11T02:28:24.800352",
     "exception": false,
     "start_time": "2022-04-11T02:28:20.000302",
     "status": "completed"
    }
   },
   "outputs": [
    {
     "data": {
      "text/plain": [
       "(373425, 3)"
      ]
     },
     "execution_count": 7,
     "metadata": {},
     "output_type": "execute_result"
    }
   ],
   "source": [
    "# Get search terms\n",
    "df_search = pd.read_sql(\"SELECT * FROM df_search_term\", conn)\n",
    "df_search = df_search.dropna().drop_duplicates(subset=[\"search_term\"]).query(\"search_term != 'tum urunler'\")\n",
    "df_search = df_search.replace(\"[^\\w ]\", \"\", regex=True)\n",
    "df_search.shape"
   ]
  },
  {
   "cell_type": "code",
   "execution_count": 8,
   "id": "1c122f58",
   "metadata": {
    "execution": {
     "iopub.execute_input": "2022-04-11T02:28:24.812319Z",
     "iopub.status.busy": "2022-04-11T02:28:24.812319Z",
     "iopub.status.idle": "2022-04-11T02:28:27.846348Z",
     "shell.execute_reply": "2022-04-11T02:28:27.845475Z"
    },
    "papermill": {
     "duration": 3.043024,
     "end_time": "2022-04-11T02:28:27.848342",
     "exception": false,
     "start_time": "2022-04-11T02:28:24.805318",
     "status": "completed"
    }
   },
   "outputs": [],
   "source": [
    "# Initialize a TFIDF vectorizer to create structural text data\n",
    "vectorizer_ntf = TfidfVectorizer(analyzer='word', ngram_range=(1, 3))\n",
    "\n",
    "# Transform both Vector 1 (Category Names) and Vector 2 (Search Terms)\n",
    "X_ntf_cats = vectorizer_ntf.fit_transform(df_cats[\"categoryname\"].to_numpy())\n",
    "X_ntf_search = vectorizer_ntf.transform(df_search[\"search_term\"].to_numpy())"
   ]
  },
  {
   "cell_type": "code",
   "execution_count": 9,
   "id": "2e4ec731",
   "metadata": {
    "execution": {
     "iopub.execute_input": "2022-04-11T02:28:27.861342Z",
     "iopub.status.busy": "2022-04-11T02:28:27.860346Z",
     "iopub.status.idle": "2022-04-11T02:28:28.983864Z",
     "shell.execute_reply": "2022-04-11T02:28:28.982861Z"
    },
    "papermill": {
     "duration": 1.132519,
     "end_time": "2022-04-11T02:28:28.985861",
     "exception": false,
     "start_time": "2022-04-11T02:28:27.853342",
     "status": "completed"
    }
   },
   "outputs": [
    {
     "data": {
      "text/plain": [
       "(373425, 2529)"
      ]
     },
     "execution_count": 9,
     "metadata": {},
     "output_type": "execute_result"
    }
   ],
   "source": [
    "# Calculate cosine similarities of each pair\n",
    "X_ntf = cosine_similarity(X_ntf_search, X_ntf_cats)\n",
    "X_ntf.shape"
   ]
  },
  {
   "cell_type": "code",
   "execution_count": 10,
   "id": "7d78fcc9",
   "metadata": {
    "execution": {
     "iopub.execute_input": "2022-04-11T02:28:28.997868Z",
     "iopub.status.busy": "2022-04-11T02:28:28.997868Z",
     "iopub.status.idle": "2022-04-11T02:30:26.904478Z",
     "shell.execute_reply": "2022-04-11T02:30:26.901479Z"
    },
    "papermill": {
     "duration": 117.954603,
     "end_time": "2022-04-11T02:30:26.946479",
     "exception": false,
     "start_time": "2022-04-11T02:28:28.991876",
     "status": "completed"
    }
   },
   "outputs": [
    {
     "data": {
      "text/plain": [
       "(208791, 2487)"
      ]
     },
     "execution_count": 10,
     "metadata": {},
     "output_type": "execute_result"
    }
   ],
   "source": [
    "# The data occupies a huge area in the memory so we try to get rid of the unsignificant rows/columns with 0 score\n",
    "df_similarity = pd.concat([pd.DataFrame(X_ntf,index=df_search[\"search_term\"], columns=df_cats[\"categoryname\"])],axis=1).replace(0, np.nan)\n",
    "df_similarity.dropna(how=\"all\", inplace=True)\n",
    "df_similarity.dropna(how=\"all\", inplace=True, axis=1)\n",
    "df_similarity.shape"
   ]
  },
  {
   "cell_type": "code",
   "execution_count": 11,
   "id": "a978353c",
   "metadata": {
    "execution": {
     "iopub.execute_input": "2022-04-11T02:30:26.974486Z",
     "iopub.status.busy": "2022-04-11T02:30:26.971481Z",
     "iopub.status.idle": "2022-04-11T02:30:27.090410Z",
     "shell.execute_reply": "2022-04-11T02:30:27.089410Z"
    },
    "papermill": {
     "duration": 0.134932,
     "end_time": "2022-04-11T02:30:27.093411",
     "exception": false,
     "start_time": "2022-04-11T02:30:26.958479",
     "status": "completed"
    }
   },
   "outputs": [
    {
     "data": {
      "text/plain": [
       "categoryname\n",
       "Kazak                1.000000\n",
       "Tesettür Kazak       0.607630\n",
       "Büyük Beden Kazak    0.444389\n",
       "Klasik Ayakkabı           NaN\n",
       "Pantolon                  NaN\n",
       "Name: ananaslı kazak, dtype: float64"
      ]
     },
     "execution_count": 11,
     "metadata": {},
     "output_type": "execute_result"
    }
   ],
   "source": [
    "# En example of a matching pair (e.g., \"Kazak\" and \"ananaslı kazak\")\n",
    "a = \"ananaslı kazak\"\n",
    "df_similarity.loc[a].sort_values(ascending=False).head()"
   ]
  },
  {
   "cell_type": "code",
   "execution_count": 12,
   "id": "bb6408cf",
   "metadata": {
    "execution": {
     "iopub.execute_input": "2022-04-11T02:30:27.113411Z",
     "iopub.status.busy": "2022-04-11T02:30:27.112414Z",
     "iopub.status.idle": "2022-04-11T02:34:01.020768Z",
     "shell.execute_reply": "2022-04-11T02:34:01.018749Z"
    },
    "papermill": {
     "duration": 214.002648,
     "end_time": "2022-04-11T02:34:01.104060",
     "exception": false,
     "start_time": "2022-04-11T02:30:27.101412",
     "status": "completed"
    }
   },
   "outputs": [
    {
     "data": {
      "text/html": [
       "<div>\n",
       "<style scoped>\n",
       "    .dataframe tbody tr th:only-of-type {\n",
       "        vertical-align: middle;\n",
       "    }\n",
       "\n",
       "    .dataframe tbody tr th {\n",
       "        vertical-align: top;\n",
       "    }\n",
       "\n",
       "    .dataframe thead th {\n",
       "        text-align: right;\n",
       "    }\n",
       "</style>\n",
       "<table border=\"1\" class=\"dataframe\">\n",
       "  <thead>\n",
       "    <tr style=\"text-align: right;\">\n",
       "      <th></th>\n",
       "      <th>search_term</th>\n",
       "      <th>categoryname</th>\n",
       "    </tr>\n",
       "  </thead>\n",
       "  <tbody>\n",
       "    <tr>\n",
       "      <th>255824352</th>\n",
       "      <td>əl kol diz dirsək ağrıları</td>\n",
       "      <td>Kol Düğmesi</td>\n",
       "    </tr>\n",
       "    <tr>\n",
       "      <th>162034741</th>\n",
       "      <td>űstű dolap alti cekmece</td>\n",
       "      <td>Dolap ve Gardrop</td>\n",
       "    </tr>\n",
       "    <tr>\n",
       "      <th>59291071</th>\n",
       "      <td>şşn musluk</td>\n",
       "      <td>Batarya  Musluk</td>\n",
       "    </tr>\n",
       "    <tr>\n",
       "      <th>94844666</th>\n",
       "      <td>şırınga model kalem</td>\n",
       "      <td>Model Araçlar</td>\n",
       "    </tr>\n",
       "    <tr>\n",
       "      <th>327437840</th>\n",
       "      <td>şırınga model kalem</td>\n",
       "      <td>Kalem Setleri</td>\n",
       "    </tr>\n",
       "  </tbody>\n",
       "</table>\n",
       "</div>"
      ],
      "text/plain": [
       "                          search_term      categoryname\n",
       "255824352  əl kol diz dirsək ağrıları       Kol Düğmesi\n",
       "162034741     űstű dolap alti cekmece  Dolap ve Gardrop\n",
       "59291071                   şşn musluk   Batarya  Musluk\n",
       "94844666          şırınga model kalem     Model Araçlar\n",
       "327437840         şırınga model kalem     Kalem Setleri"
      ]
     },
     "execution_count": 12,
     "metadata": {},
     "output_type": "execute_result"
    }
   ],
   "source": [
    "# We now make some changes in the dataframe to fit it into a dictionary format for later use\n",
    "melted = df_similarity.reset_index().melt(id_vars=\"search_term\", value_vars=[k for k in df_similarity.columns if k != \"search_term\"]).dropna(subset=[\"value\"])\n",
    "melted = melted.query(\"value >= 0.15\").sort_values([\"search_term\", \"value\"], ascending=False)\n",
    "melted[\"rank\"] = 1\n",
    "melted[\"num\"] = melted.groupby(\"search_term\")[\"rank\"].transform(np.cumsum)\n",
    "melted = melted.query(\"num < 4\")[[\"search_term\", \"categoryname\"]]\n",
    "melted.head()"
   ]
  },
  {
   "cell_type": "code",
   "execution_count": 23,
   "id": "fb0f99f7",
   "metadata": {
    "execution": {
     "iopub.execute_input": "2022-04-11T02:34:01.136100Z",
     "iopub.status.busy": "2022-04-11T02:34:01.135061Z",
     "iopub.status.idle": "2022-04-11T02:34:02.077394Z",
     "shell.execute_reply": "2022-04-11T02:34:02.075858Z"
    },
    "papermill": {
     "duration": 0.956328,
     "end_time": "2022-04-11T02:34:02.079391",
     "exception": false,
     "start_time": "2022-04-11T02:34:01.123063",
     "status": "completed"
    }
   },
   "outputs": [
    {
     "data": {
      "text/plain": [
       "'Yüz Temizleyici'"
      ]
     },
     "execution_count": 23,
     "metadata": {},
     "output_type": "execute_result"
    }
   ],
   "source": [
    "# Since we see that some of the terms are matched with some category names, this can lead us to connecting search terms\n",
    "# to product table which eventually be useful to create a new feature in the target table\n",
    "search_term_dict = melted.set_index(\"search_term\").to_dict(\"dict\")[\"categoryname\"]\n",
    "search_term_dict[\"şık yüz maskesi\"]"
   ]
  },
  {
   "cell_type": "code",
   "execution_count": null,
   "id": "cb2ba912",
   "metadata": {},
   "outputs": [],
   "source": [
    "# Search terms are replaced with category names to create implicit representations of search terms\n",
    "df_search[\"target_categoryname\"] = df_search[\"search_term\"].map(search_term_dict)"
   ]
  },
  {
   "cell_type": "code",
   "execution_count": 14,
   "id": "832508b9",
   "metadata": {
    "execution": {
     "iopub.execute_input": "2022-04-11T02:34:02.095083Z",
     "iopub.status.busy": "2022-04-11T02:34:02.095083Z",
     "iopub.status.idle": "2022-04-11T02:34:04.902672Z",
     "shell.execute_reply": "2022-04-11T02:34:04.901760Z"
    },
    "papermill": {
     "duration": 2.818275,
     "end_time": "2022-04-11T02:34:04.904667",
     "exception": false,
     "start_time": "2022-04-11T02:34:02.086392",
     "status": "completed"
    }
   },
   "outputs": [
    {
     "data": {
      "text/html": [
       "<div>\n",
       "<style scoped>\n",
       "    .dataframe tbody tr th:only-of-type {\n",
       "        vertical-align: middle;\n",
       "    }\n",
       "\n",
       "    .dataframe tbody tr th {\n",
       "        vertical-align: top;\n",
       "    }\n",
       "\n",
       "    .dataframe thead th {\n",
       "        text-align: right;\n",
       "    }\n",
       "</style>\n",
       "<table border=\"1\" class=\"dataframe\">\n",
       "  <thead>\n",
       "    <tr style=\"text-align: right;\">\n",
       "      <th></th>\n",
       "      <th>categoryname</th>\n",
       "      <th>currentbugroupname</th>\n",
       "    </tr>\n",
       "  </thead>\n",
       "  <tbody>\n",
       "    <tr>\n",
       "      <th>0</th>\n",
       "      <td>Klasik Ayakkabı</td>\n",
       "      <td>Ayakkabı &amp; Çanta</td>\n",
       "    </tr>\n",
       "    <tr>\n",
       "      <th>1</th>\n",
       "      <td>Pantolon</td>\n",
       "      <td>Branded Tekstil</td>\n",
       "    </tr>\n",
       "    <tr>\n",
       "      <th>2</th>\n",
       "      <td>Akvaryum Balık Yemleri</td>\n",
       "      <td>FMCG</td>\n",
       "    </tr>\n",
       "    <tr>\n",
       "      <th>3</th>\n",
       "      <td>Külot</td>\n",
       "      <td>Branded Tekstil</td>\n",
       "    </tr>\n",
       "    <tr>\n",
       "      <th>4</th>\n",
       "      <td>Tabak</td>\n",
       "      <td>Ev</td>\n",
       "    </tr>\n",
       "  </tbody>\n",
       "</table>\n",
       "</div>"
      ],
      "text/plain": [
       "             categoryname currentbugroupname\n",
       "0         Klasik Ayakkabı   Ayakkabı & Çanta\n",
       "1                Pantolon    Branded Tekstil\n",
       "2  Akvaryum Balık Yemleri               FMCG\n",
       "3                   Külot    Branded Tekstil\n",
       "4                   Tabak                 Ev"
      ]
     },
     "execution_count": 14,
     "metadata": {},
     "output_type": "execute_result"
    }
   ],
   "source": [
    "df_products = pd.read_sql(\"SELECT categoryname, currentbugroupname FROM df_product\", conn)\n",
    "df_products.head()"
   ]
  },
  {
   "cell_type": "code",
   "execution_count": 20,
   "id": "d6abf1a9",
   "metadata": {
    "execution": {
     "iopub.execute_input": "2022-04-11T02:34:04.920093Z",
     "iopub.status.busy": "2022-04-11T02:34:04.920093Z",
     "iopub.status.idle": "2022-04-11T02:34:06.278681Z",
     "shell.execute_reply": "2022-04-11T02:34:06.277679Z"
    },
    "papermill": {
     "duration": 1.368576,
     "end_time": "2022-04-11T02:34:06.280678",
     "exception": false,
     "start_time": "2022-04-11T02:34:04.912102",
     "status": "completed"
    }
   },
   "outputs": [
    {
     "data": {
      "text/plain": [
       "'Branded Tekstil'"
      ]
     },
     "execution_count": 20,
     "metadata": {},
     "output_type": "execute_result"
    }
   ],
   "source": [
    "products_dict = df_products.set_index(\"categoryname\").to_dict(\"dict\")[\"currentbugroupname\"]\n",
    "products_dict[\"Pantolon\"]"
   ]
  },
  {
   "cell_type": "code",
   "execution_count": 16,
   "id": "2d1c677d",
   "metadata": {
    "execution": {
     "iopub.execute_input": "2022-04-11T02:34:06.300683Z",
     "iopub.status.busy": "2022-04-11T02:34:06.299683Z",
     "iopub.status.idle": "2022-04-11T02:34:06.357679Z",
     "shell.execute_reply": "2022-04-11T02:34:06.356686Z"
    },
    "papermill": {
     "duration": 0.070018,
     "end_time": "2022-04-11T02:34:06.359701",
     "exception": false,
     "start_time": "2022-04-11T02:34:06.289683",
     "status": "completed"
    }
   },
   "outputs": [],
   "source": [
    "# Now we can match implicit representations of search terms with the product table\n",
    "df_search[\"currentbugroupname\"] = df_search[\"target_categoryname\"].map(products_dict)"
   ]
  },
  {
   "cell_type": "code",
   "execution_count": 17,
   "id": "9154047b",
   "metadata": {
    "execution": {
     "iopub.execute_input": "2022-04-11T02:34:06.374679Z",
     "iopub.status.busy": "2022-04-11T02:34:06.373680Z",
     "iopub.status.idle": "2022-04-11T02:34:06.530047Z",
     "shell.execute_reply": "2022-04-11T02:34:06.529516Z"
    },
    "papermill": {
     "duration": 0.167103,
     "end_time": "2022-04-11T02:34:06.532781",
     "exception": false,
     "start_time": "2022-04-11T02:34:06.365678",
     "status": "completed"
    }
   },
   "outputs": [],
   "source": [
    "# Aggregating the values by summation\n",
    "df_final = df_search.groupby([\"userid\", \"currentbugroupname\"], as_index=False).agg({\"partition_date\": \"count\"}).rename(columns={\"partition_date\": \"search_count\"})\n",
    "df_final[\"userid\"] = df_final[\"userid\"].astype(str)"
   ]
  },
  {
   "cell_type": "code",
   "execution_count": 24,
   "id": "26b05d67",
   "metadata": {},
   "outputs": [
    {
     "data": {
      "text/html": [
       "<div>\n",
       "<style scoped>\n",
       "    .dataframe tbody tr th:only-of-type {\n",
       "        vertical-align: middle;\n",
       "    }\n",
       "\n",
       "    .dataframe tbody tr th {\n",
       "        vertical-align: top;\n",
       "    }\n",
       "\n",
       "    .dataframe thead th {\n",
       "        text-align: right;\n",
       "    }\n",
       "</style>\n",
       "<table border=\"1\" class=\"dataframe\">\n",
       "  <thead>\n",
       "    <tr style=\"text-align: right;\">\n",
       "      <th></th>\n",
       "      <th>userid</th>\n",
       "      <th>currentbugroupname</th>\n",
       "      <th>search_count</th>\n",
       "    </tr>\n",
       "  </thead>\n",
       "  <tbody>\n",
       "    <tr>\n",
       "      <th>0</th>\n",
       "      <td>12810</td>\n",
       "      <td>Aksesuar &amp; Saat &amp; Gözlük</td>\n",
       "      <td>1</td>\n",
       "    </tr>\n",
       "    <tr>\n",
       "      <th>1</th>\n",
       "      <td>12810</td>\n",
       "      <td>GAS</td>\n",
       "      <td>2</td>\n",
       "    </tr>\n",
       "    <tr>\n",
       "      <th>2</th>\n",
       "      <td>12810</td>\n",
       "      <td>Kozmetik</td>\n",
       "      <td>1</td>\n",
       "    </tr>\n",
       "    <tr>\n",
       "      <th>3</th>\n",
       "      <td>15148</td>\n",
       "      <td>Ev</td>\n",
       "      <td>1</td>\n",
       "    </tr>\n",
       "    <tr>\n",
       "      <th>4</th>\n",
       "      <td>23198</td>\n",
       "      <td>FMCG</td>\n",
       "      <td>1</td>\n",
       "    </tr>\n",
       "  </tbody>\n",
       "</table>\n",
       "</div>"
      ],
      "text/plain": [
       "   userid        currentbugroupname  search_count\n",
       "0   12810  Aksesuar & Saat & Gözlük             1\n",
       "1   12810                       GAS             2\n",
       "2   12810                  Kozmetik             1\n",
       "3   15148                        Ev             1\n",
       "4   23198                      FMCG             1"
      ]
     },
     "execution_count": 24,
     "metadata": {},
     "output_type": "execute_result"
    }
   ],
   "source": [
    "df_final.head()"
   ]
  },
  {
   "cell_type": "code",
   "execution_count": 31,
   "id": "afde329a",
   "metadata": {
    "execution": {
     "iopub.execute_input": "2022-04-11T02:34:06.553321Z",
     "iopub.status.busy": "2022-04-11T02:34:06.552790Z",
     "iopub.status.idle": "2022-04-11T02:34:06.951380Z",
     "shell.execute_reply": "2022-04-11T02:34:06.950368Z"
    },
    "papermill": {
     "duration": 0.412059,
     "end_time": "2022-04-11T02:34:06.953379",
     "exception": false,
     "start_time": "2022-04-11T02:34:06.541320",
     "status": "completed"
    }
   },
   "outputs": [],
   "source": [
    "# Read the main (train dataset) and merge it with the newly created dataframe\n",
    "df = pd.read_csv(upstream['clean']['data'])\n",
    "df[\"userid\"] = df[\"userid\"].astype(str)\n",
    "df = df.merge(df_final, on=[\"userid\", \"currentbugroupname\"], how=\"left\")"
   ]
  },
  {
   "cell_type": "code",
   "execution_count": 32,
   "id": "8a67ef01",
   "metadata": {},
   "outputs": [
    {
     "data": {
      "text/html": [
       "<div>\n",
       "<style scoped>\n",
       "    .dataframe tbody tr th:only-of-type {\n",
       "        vertical-align: middle;\n",
       "    }\n",
       "\n",
       "    .dataframe tbody tr th {\n",
       "        vertical-align: top;\n",
       "    }\n",
       "\n",
       "    .dataframe thead th {\n",
       "        text-align: right;\n",
       "    }\n",
       "</style>\n",
       "<table border=\"1\" class=\"dataframe\">\n",
       "  <thead>\n",
       "    <tr style=\"text-align: right;\">\n",
       "      <th></th>\n",
       "      <th>index</th>\n",
       "      <th>userid</th>\n",
       "      <th>probability</th>\n",
       "      <th>target</th>\n",
       "      <th>currentbugroupname</th>\n",
       "      <th>y</th>\n",
       "      <th>gender</th>\n",
       "      <th>age</th>\n",
       "      <th>tenure</th>\n",
       "      <th>addtobasket_count_basket</th>\n",
       "      <th>productdetailcount_visit</th>\n",
       "      <th>quantity_trx</th>\n",
       "      <th>price_trx</th>\n",
       "      <th>fav_count_fav</th>\n",
       "      <th>search_count</th>\n",
       "    </tr>\n",
       "  </thead>\n",
       "  <tbody>\n",
       "    <tr>\n",
       "      <th>0</th>\n",
       "      <td>0</td>\n",
       "      <td>10000970</td>\n",
       "      <td>None</td>\n",
       "      <td>None</td>\n",
       "      <td>Aksesuar &amp; Saat &amp; Gözlük</td>\n",
       "      <td>1</td>\n",
       "      <td>Bayan</td>\n",
       "      <td>50.0</td>\n",
       "      <td>85</td>\n",
       "      <td>0.0</td>\n",
       "      <td>336.0</td>\n",
       "      <td>2.0</td>\n",
       "      <td>225.89</td>\n",
       "      <td>45.0</td>\n",
       "      <td>3.0</td>\n",
       "    </tr>\n",
       "    <tr>\n",
       "      <th>1</th>\n",
       "      <td>1</td>\n",
       "      <td>10000970</td>\n",
       "      <td>None</td>\n",
       "      <td>None</td>\n",
       "      <td>Kozmetik</td>\n",
       "      <td>1</td>\n",
       "      <td>Bayan</td>\n",
       "      <td>50.0</td>\n",
       "      <td>85</td>\n",
       "      <td>0.0</td>\n",
       "      <td>138.0</td>\n",
       "      <td>3.0</td>\n",
       "      <td>102.62</td>\n",
       "      <td>9.0</td>\n",
       "      <td>NaN</td>\n",
       "    </tr>\n",
       "    <tr>\n",
       "      <th>2</th>\n",
       "      <td>2</td>\n",
       "      <td>10000970</td>\n",
       "      <td>None</td>\n",
       "      <td>None</td>\n",
       "      <td>Mobilya</td>\n",
       "      <td>1</td>\n",
       "      <td>Bayan</td>\n",
       "      <td>50.0</td>\n",
       "      <td>85</td>\n",
       "      <td>0.0</td>\n",
       "      <td>0.0</td>\n",
       "      <td>0.0</td>\n",
       "      <td>0.00</td>\n",
       "      <td>0.0</td>\n",
       "      <td>NaN</td>\n",
       "    </tr>\n",
       "    <tr>\n",
       "      <th>3</th>\n",
       "      <td>3</td>\n",
       "      <td>10000970</td>\n",
       "      <td>None</td>\n",
       "      <td>None</td>\n",
       "      <td>Private Label</td>\n",
       "      <td>1</td>\n",
       "      <td>Bayan</td>\n",
       "      <td>50.0</td>\n",
       "      <td>85</td>\n",
       "      <td>0.0</td>\n",
       "      <td>19.0</td>\n",
       "      <td>0.0</td>\n",
       "      <td>0.00</td>\n",
       "      <td>2.0</td>\n",
       "      <td>NaN</td>\n",
       "    </tr>\n",
       "    <tr>\n",
       "      <th>4</th>\n",
       "      <td>4</td>\n",
       "      <td>10000970</td>\n",
       "      <td>None</td>\n",
       "      <td>None</td>\n",
       "      <td>FMCG</td>\n",
       "      <td>1</td>\n",
       "      <td>Bayan</td>\n",
       "      <td>50.0</td>\n",
       "      <td>85</td>\n",
       "      <td>0.0</td>\n",
       "      <td>4.0</td>\n",
       "      <td>0.0</td>\n",
       "      <td>0.00</td>\n",
       "      <td>0.0</td>\n",
       "      <td>NaN</td>\n",
       "    </tr>\n",
       "  </tbody>\n",
       "</table>\n",
       "</div>"
      ],
      "text/plain": [
       "   index    userid probability target        currentbugroupname  y gender  \\\n",
       "0      0  10000970        None   None  Aksesuar & Saat & Gözlük  1  Bayan   \n",
       "1      1  10000970        None   None                  Kozmetik  1  Bayan   \n",
       "2      2  10000970        None   None                   Mobilya  1  Bayan   \n",
       "3      3  10000970        None   None             Private Label  1  Bayan   \n",
       "4      4  10000970        None   None                      FMCG  1  Bayan   \n",
       "\n",
       "    age  tenure  addtobasket_count_basket  productdetailcount_visit  \\\n",
       "0  50.0      85                       0.0                     336.0   \n",
       "1  50.0      85                       0.0                     138.0   \n",
       "2  50.0      85                       0.0                       0.0   \n",
       "3  50.0      85                       0.0                      19.0   \n",
       "4  50.0      85                       0.0                       4.0   \n",
       "\n",
       "   quantity_trx  price_trx  fav_count_fav  search_count  \n",
       "0           2.0     225.89           45.0           3.0  \n",
       "1           3.0     102.62            9.0           NaN  \n",
       "2           0.0       0.00            0.0           NaN  \n",
       "3           0.0       0.00            2.0           NaN  \n",
       "4           0.0       0.00            0.0           NaN  "
      ]
     },
     "execution_count": 32,
     "metadata": {},
     "output_type": "execute_result"
    }
   ],
   "source": [
    "df.head()"
   ]
  },
  {
   "cell_type": "code",
   "execution_count": 19,
   "id": "565b4e19",
   "metadata": {
    "execution": {
     "iopub.execute_input": "2022-04-11T02:34:06.967368Z",
     "iopub.status.busy": "2022-04-11T02:34:06.966367Z",
     "iopub.status.idle": "2022-04-11T02:34:08.199060Z",
     "shell.execute_reply": "2022-04-11T02:34:08.198148Z"
    },
    "papermill": {
     "duration": 1.24168,
     "end_time": "2022-04-11T02:34:08.201059",
     "exception": false,
     "start_time": "2022-04-11T02:34:06.959379",
     "status": "completed"
    }
   },
   "outputs": [],
   "source": [
    "df.to_csv(product[\"data\"], index=False)"
   ]
  },
  {
   "cell_type": "code",
   "execution_count": null,
   "id": "2973b7fa",
   "metadata": {},
   "outputs": [],
   "source": []
  }
 ],
 "metadata": {
  "kernelspec": {
   "display_name": "Python 3",
   "language": "python",
   "name": "python3"
  },
  "language_info": {
   "codemirror_mode": {
    "name": "ipython",
    "version": 3
   },
   "file_extension": ".py",
   "mimetype": "text/x-python",
   "name": "python",
   "nbconvert_exporter": "python",
   "pygments_lexer": "ipython3",
   "version": "3.7.6"
  },
  "papermill": {
   "parameters": {
    "input_path": "products/cleaned_train_data.csv",
    "product": {
     "data": "C:\\Users\\berkayg\\Desktop\\Coding env\\ test-case\\products\\processed_train_data.csv",
     "nb": "C:\\Users\\berkayg\\Desktop\\Coding env\\ test-case\\products\\feature_generation_nb.ipynb"
    },
    "upstream": {
     "clean": {
      "data": "C:\\Users\\berkayg\\Desktop\\Coding env\\ test-case\\products\\cleaned_train_data.csv",
      "nb": "C:\\Users\\berkayg\\Desktop\\Coding env\\ test-case\\products\\clean_train_data.ipynb"
     }
    }
   }
  },
  "ploomber": {
   "injected_manually": true
  }
 },
 "nbformat": 4,
 "nbformat_minor": 5
}
